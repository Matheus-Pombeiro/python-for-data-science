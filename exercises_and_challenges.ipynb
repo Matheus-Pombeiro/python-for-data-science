{
  "nbformat": 4,
  "nbformat_minor": 0,
  "metadata": {
    "colab": {
      "provenance": [],
      "authorship_tag": "ABX9TyOIGFxWnkhG6to9Sm7We/tg",
      "include_colab_link": true
    },
    "kernelspec": {
      "name": "python3",
      "display_name": "Python 3"
    },
    "language_info": {
      "name": "python"
    }
  },
  "cells": [
    {
      "cell_type": "markdown",
      "metadata": {
        "id": "view-in-github",
        "colab_type": "text"
      },
      "source": [
        "<a href=\"https://colab.research.google.com/github/Matheus-Pombeiro/python-for-data-science/blob/main/exercises_and_challenges.ipynb\" target=\"_parent\"><img src=\"https://colab.research.google.com/assets/colab-badge.svg\" alt=\"Open In Colab\"/></a>"
      ]
    },
    {
      "cell_type": "markdown",
      "source": [
        "# **Python for Data Science**\n",
        "\n",
        "## Exercises and challenges"
      ],
      "metadata": {
        "id": "AkoBB6JGDIQE"
      }
    },
    {
      "cell_type": "markdown",
      "source": [
        "# First class - Libraries"
      ],
      "metadata": {
        "id": "0xkSLPYiuf9M"
      }
    },
    {
      "cell_type": "markdown",
      "source": [
        "### **EX 1**\n",
        "\n",
        "Import of randrange and sample from random"
      ],
      "metadata": {
        "id": "fuJFO9xGK9wx"
      }
    },
    {
      "cell_type": "code",
      "execution_count": null,
      "metadata": {
        "id": "bv82L_5nDHK8",
        "collapsed": true,
        "colab": {
          "base_uri": "https://localhost:8080/"
        },
        "outputId": "79371d8a-932f-475a-b0db-432ecfe74774"
      },
      "outputs": [
        {
          "output_type": "execute_result",
          "data": {
            "text/plain": [
              "[63, 61, 95, 93, 96]"
            ]
          },
          "metadata": {},
          "execution_count": 6
        }
      ],
      "source": [
        "# Import of randrange and sample from random\n",
        "from random import randrange, sample\n",
        "\n",
        "list = []\n",
        "\n",
        "for i in range(0, 20):\n",
        "  list.append(randrange(100))\n",
        "\n",
        "sample(list, 5)"
      ]
    },
    {
      "cell_type": "markdown",
      "source": [
        "### **EX 2**\n",
        "\n",
        "Import all methods from math"
      ],
      "metadata": {
        "id": "OaQorpryLLiW"
      }
    },
    {
      "cell_type": "code",
      "source": [
        "# Import all methods from math\n",
        "from math import *\n",
        "\n",
        "n = int(input('Type a positive number to calculate its square root: '))\n",
        "print(f'\\nThe square root of {n} is the same as {sqrt(n)}')"
      ],
      "metadata": {
        "id": "_5mBb_NmGd1W",
        "colab": {
          "base_uri": "https://localhost:8080/"
        },
        "outputId": "044d1896-eae8-44a7-fd30-bf0527c1cbe9"
      },
      "execution_count": null,
      "outputs": [
        {
          "output_type": "stream",
          "name": "stdout",
          "text": [
            "Type a positive number to calculate its square root: 2\n",
            "\n",
            "The square root of 2 is the same as 1.4142135623730951\n"
          ]
        }
      ]
    },
    {
      "cell_type": "markdown",
      "source": [
        "### **EX 3**\n",
        "\n",
        "Import ceil from math"
      ],
      "metadata": {
        "id": "R3RxmFwoLQvC"
      }
    },
    {
      "cell_type": "code",
      "source": [
        "# Import ceil from math\n",
        "from math import ceil\n",
        "\n",
        "revenue = 1000\n",
        "unit_price = 15\n",
        "\n",
        "total_units = revenue / unit_price\n",
        "\n",
        "print(f'The company sold about {ceil(total_units)} units')"
      ],
      "metadata": {
        "id": "v8kogFk6JgDD",
        "colab": {
          "base_uri": "https://localhost:8080/"
        },
        "outputId": "74e19792-c5ad-458e-d2aa-993196bc27e1"
      },
      "execution_count": null,
      "outputs": [
        {
          "output_type": "stream",
          "name": "stdout",
          "text": [
            "The company sold about 67 units\n"
          ]
        }
      ]
    },
    {
      "cell_type": "markdown",
      "source": [
        "### **Challenge 1**\n",
        "\n",
        "Import matplotlib"
      ],
      "metadata": {
        "id": "IwvvzyrgLT4G"
      }
    },
    {
      "cell_type": "code",
      "source": [
        "# Import matplotlib\n",
        "import matplotlib"
      ],
      "metadata": {
        "id": "h7klcby9KiZU"
      },
      "execution_count": null,
      "outputs": []
    },
    {
      "cell_type": "markdown",
      "source": [
        "### **Challenge 2**\n",
        "\n",
        "Import numpy"
      ],
      "metadata": {
        "id": "Adl9pXYyMsL0"
      }
    },
    {
      "cell_type": "code",
      "source": [
        "# Import numpy\n",
        "import numpy as np"
      ],
      "metadata": {
        "id": "GmWLz5pSKwr5"
      },
      "execution_count": null,
      "outputs": []
    },
    {
      "cell_type": "markdown",
      "source": [
        "### **Challenge 3**\n",
        "\n",
        "Choose a random number from the list"
      ],
      "metadata": {
        "id": "tNBuFfY-Mu87"
      }
    },
    {
      "cell_type": "code",
      "source": [
        "# Choose a random number from the list\n",
        "from random import choice\n",
        "\n",
        "list = [8, 12, 54, 23, 43, 1, 90, 87, 105, 77]\n",
        "\n",
        "number = choice(list)\n",
        "number\n"
      ],
      "metadata": {
        "id": "S5C5AMXvK42b",
        "colab": {
          "base_uri": "https://localhost:8080/"
        },
        "outputId": "1c9096a7-5a99-4d04-ffc6-5c1a76198ac3"
      },
      "execution_count": null,
      "outputs": [
        {
          "output_type": "execute_result",
          "data": {
            "text/plain": [
              "43"
            ]
          },
          "metadata": {},
          "execution_count": 1
        }
      ]
    },
    {
      "cell_type": "markdown",
      "source": [
        "### **Challenge 4**\n",
        "\n",
        "Draw a positive number lesser than 100"
      ],
      "metadata": {
        "id": "NmFWAkPnMxI3"
      }
    },
    {
      "cell_type": "code",
      "source": [
        "# Draw a positive number lesser than 100\n",
        "from random import randrange, sample\n",
        "\n",
        "list = []\n",
        "\n",
        "for i in range(0, 7):\n",
        "  list.append(randrange(100))\n",
        "\n",
        "sample(list, 1)"
      ],
      "metadata": {
        "id": "PPmpS7w6MzgM",
        "colab": {
          "base_uri": "https://localhost:8080/"
        },
        "outputId": "0bcf2b8a-f1b5-4fb8-921d-3146967a5bb4"
      },
      "execution_count": null,
      "outputs": [
        {
          "output_type": "execute_result",
          "data": {
            "text/plain": [
              "[19]"
            ]
          },
          "metadata": {},
          "execution_count": 2
        }
      ]
    },
    {
      "cell_type": "markdown",
      "source": [
        "### **Challenge 5**\n",
        "\n",
        "Calculate power with pow()"
      ],
      "metadata": {
        "id": "qaHDblGfOeqy"
      }
    },
    {
      "cell_type": "code",
      "source": [
        "# Calculate power with pow()\n",
        "from math import pow\n",
        "\n",
        "number_1 = int(input('Type a number: '))\n",
        "number_2 = int(input('Type another number: '))\n",
        "\n",
        "result = pow(number_1, number_2)\n",
        "\n",
        "print(f'The power of {number_1} raised to {number_2} is the same as {int(result)}')"
      ],
      "metadata": {
        "id": "-rruiA1tOgS1",
        "colab": {
          "base_uri": "https://localhost:8080/"
        },
        "outputId": "0345e608-3752-4d3c-ac7f-82fb38170f1a"
      },
      "execution_count": null,
      "outputs": [
        {
          "output_type": "stream",
          "name": "stdout",
          "text": [
            "Type a number: 5\n",
            "Type another number: 7\n",
            "The power of 5 raised to 7 is the same as 78125\n"
          ]
        }
      ]
    },
    {
      "cell_type": "markdown",
      "source": [
        "### **Challenge 6**\n",
        "\n",
        "Choose a random winner on a social media"
      ],
      "metadata": {
        "id": "d2kH2bg-P0iA"
      }
    },
    {
      "cell_type": "code",
      "source": [
        "# Choose a random winner on a social media\n",
        "from random import randint\n",
        "\n",
        "number = int(input('Enter the number of participants in the draw: '))\n",
        "\n",
        "print(f'The winner is the participant number {randint(1, number)}')"
      ],
      "metadata": {
        "id": "vYwwWtDDP1_6",
        "colab": {
          "base_uri": "https://localhost:8080/"
        },
        "outputId": "61504106-43ed-4404-86d6-6cf2dff70031"
      },
      "execution_count": null,
      "outputs": [
        {
          "output_type": "stream",
          "name": "stdout",
          "text": [
            "Enter the number of participants in the draw: 5\n",
            "The winner is the participant number 3\n"
          ]
        }
      ]
    },
    {
      "cell_type": "markdown",
      "source": [
        "### **Challenge 7**\n",
        "\n",
        "Radomly generate an access token for the user"
      ],
      "metadata": {
        "id": "rVXjG95_pz5b"
      }
    },
    {
      "cell_type": "code",
      "source": [
        "# Radomly generate an access token for the user\n",
        "access_token = randrange(1000, 9998, 2)\n",
        "\n",
        "username = input('What is your name? ')\n",
        "\n",
        "print(f'Hi, {username}. Your access token is {access_token}. Welcome!')"
      ],
      "metadata": {
        "id": "FzXBnBRlp3jk",
        "colab": {
          "base_uri": "https://localhost:8080/"
        },
        "outputId": "4875e3f4-8824-46d5-f919-9f53643836f9"
      },
      "execution_count": null,
      "outputs": [
        {
          "output_type": "stream",
          "name": "stdout",
          "text": [
            "What is your name? Matheus\n",
            "Hi, Matheus. Your access token is 9430. Welcome!\n"
          ]
        }
      ]
    },
    {
      "cell_type": "markdown",
      "source": [
        "### **Challenge 8**\n",
        "\n",
        "Choose three fruits radomly from the list of fruits of a fruit shop"
      ],
      "metadata": {
        "id": "GfsAY0Qhskwk"
      }
    },
    {
      "cell_type": "code",
      "source": [
        "# Choose three fruits radomly from the list of fruits of a fruit shop\n",
        "from random import choices\n",
        "\n",
        "fruits = ['Apple', 'Banana', 'Grape', 'Pear',\n",
        "          'Mango',  'Coconut', 'Watermelon', 'Papaya',\n",
        "          'Orange', 'Pineapple', 'Kiwi', 'Plum']\n",
        "\n",
        "fruit_salad = choices(fruits, k=3)\n",
        "print(f'Your fruit salad will be made using {fruit_salad[0]}, {fruit_salad[1]} and {fruit_salad[2]}.')\n"
      ],
      "metadata": {
        "colab": {
          "base_uri": "https://localhost:8080/"
        },
        "id": "xOyRjvF1sob2",
        "outputId": "0a994067-7128-422a-f965-1bb6ed8c7014"
      },
      "execution_count": null,
      "outputs": [
        {
          "output_type": "stream",
          "name": "stdout",
          "text": [
            "Your fruit salad will be made using Mango, Pineapple and Watermelon.\n"
          ]
        }
      ]
    },
    {
      "cell_type": "markdown",
      "source": [
        "### **Challenge 9**\n",
        "\n",
        "Determine the square roots of a list of number and verify if they are integer"
      ],
      "metadata": {
        "id": "TaQYspdPxLMl"
      }
    },
    {
      "cell_type": "code",
      "source": [
        "# Determine the square roots of a list of number and verify if they are integer\n",
        "from math import sqrt\n",
        "\n",
        "numbers = [2, 8, 15, 23, 91, 112, 256]\n",
        "\n",
        "for number in numbers:\n",
        "  square_root = sqrt(number)\n",
        "  if square_root // 1 == square_root:\n",
        "    print(f'The number {number} has a integer square root that is {square_root}.')"
      ],
      "metadata": {
        "id": "TozCoc54xRRq",
        "colab": {
          "base_uri": "https://localhost:8080/"
        },
        "outputId": "0e9fc7d4-6cf1-489e-b9dc-19daf891bcc2"
      },
      "execution_count": null,
      "outputs": [
        {
          "output_type": "stream",
          "name": "stdout",
          "text": [
            "The number 256 has a integer square root that is 16.0.\n"
          ]
        }
      ]
    },
    {
      "cell_type": "markdown",
      "source": [
        "### **Challenge 10**\n",
        "\n",
        "Discover the price of a piece of grass for garden based on diameter calculation"
      ],
      "metadata": {
        "id": "Hun5O-7rzSJg"
      }
    },
    {
      "cell_type": "code",
      "source": [
        "# Discover the price of a piece of grass for garden based on diameter calculation\n",
        "from math import pi, pow\n",
        "\n",
        "diameter = float(input('What is the diameter of the piece of grass that you want to buy? '))\n",
        "\n",
        "area = pi * pow(diameter, 2)\n",
        "\n",
        "price = area * 25\n",
        "\n",
        "print(f'The price for your grass is US$ {price:.2f}')"
      ],
      "metadata": {
        "colab": {
          "base_uri": "https://localhost:8080/"
        },
        "id": "OEeG_VIYzS4T",
        "outputId": "7e32d4bd-269c-43c6-87bf-7bef27204057"
      },
      "execution_count": null,
      "outputs": [
        {
          "output_type": "stream",
          "name": "stdout",
          "text": [
            "What is the diameter of the piece of grass that you want to buy? 1\n",
            "The price for your grass is US$ 78.54\n"
          ]
        }
      ]
    },
    {
      "cell_type": "markdown",
      "source": [
        "# Second class - Functions"
      ],
      "metadata": {
        "id": "oQH7q6yCur9j"
      }
    },
    {
      "cell_type": "markdown",
      "source": [
        "### **Challenge 1**\n",
        "\n",
        "Extracting information from a list"
      ],
      "metadata": {
        "id": "iALPOy7Yu9ey"
      }
    },
    {
      "cell_type": "code",
      "source": [
        "# Determines a number list\n",
        "list = [16, 14, 63, 65, 17, 99, 70, 11, 20, 48, 79, 32, 17, 89, 12, 25, 66]\n",
        "\n",
        "# Returns the list length\n",
        "length = len(list)\n",
        "\n",
        "# Finds the list's biggest value\n",
        "biggest = max(list)\n",
        "\n",
        "# Finds the list's lower value\n",
        "lower = min(list)\n",
        "\n",
        "# Sums the list's values\n",
        "sum = sum(list)\n",
        "\n",
        "print(f'The list length is {length}')\n",
        "print(f'The list biggest value is {biggest}')\n",
        "print(f'The list lower value is {lower}')\n",
        "print(f'The list sum is {sum}')"
      ],
      "metadata": {
        "colab": {
          "base_uri": "https://localhost:8080/"
        },
        "id": "q4f8yQoXv_7P",
        "outputId": "bd25cb1b-7ed5-41d8-c046-c04d409fd527"
      },
      "execution_count": null,
      "outputs": [
        {
          "output_type": "stream",
          "name": "stdout",
          "text": [
            "The list length is 17\n",
            "The list biggest value is 99\n",
            "The list lower value is 11\n",
            "The list sum is 743\n"
          ]
        }
      ]
    },
    {
      "cell_type": "markdown",
      "source": [
        "### **Challenge 2**\n",
        "\n",
        "Calculating the multiplication table"
      ],
      "metadata": {
        "id": "s10skpE21aWE"
      }
    },
    {
      "cell_type": "code",
      "source": [
        "# Receives a user number\n",
        "n = int(input('Enter a number to calculate its multiplication table: '))\n",
        "\n",
        "# Calculates the multiplication table from 0 to 10 on the user number\n",
        "def multiplication_table(n):\n",
        "  for i in range(0, 11):\n",
        "    print(f'{n} x {i} = {n * i}')\n",
        "\n",
        "multiplication_table(n)"
      ],
      "metadata": {
        "colab": {
          "base_uri": "https://localhost:8080/"
        },
        "id": "dNob9F2O1mBS",
        "outputId": "c795c6a3-c75a-4060-f923-35a2c50fbe7c"
      },
      "execution_count": null,
      "outputs": [
        {
          "output_type": "stream",
          "name": "stdout",
          "text": [
            "Enter a number to calculate its multiplication table: 7\n",
            "7 x 0 = 0\n",
            "7 x 1 = 7\n",
            "7 x 2 = 14\n",
            "7 x 3 = 21\n",
            "7 x 4 = 28\n",
            "7 x 5 = 35\n",
            "7 x 6 = 42\n",
            "7 x 7 = 49\n",
            "7 x 8 = 56\n",
            "7 x 9 = 63\n",
            "7 x 10 = 70\n"
          ]
        }
      ]
    },
    {
      "cell_type": "markdown",
      "source": [
        "### **Challenge 3**\n",
        "\n",
        "Returns a list with multiples of 3"
      ],
      "metadata": {
        "id": "TpUTUzKZ3MLy"
      }
    },
    {
      "cell_type": "code",
      "source": [
        "# Declares a number list\n",
        "numbers = [97, 80, 94, 88, 80, 1, 16, 53, 62, 32, 24, 99]\n",
        "\n",
        "# Declares a list to keep multiples of three\n",
        "mult_3 = []\n",
        "\n",
        "# Declares a function to verify if the number is a multiple of three\n",
        "def multiples_of_three(numbers):\n",
        "  for n in numbers:\n",
        "    if n % 3 == 0:\n",
        "      mult_3.append(n)\n",
        "\n",
        "# Calls the function 'multiples_of_three'\n",
        "multiples_of_three(numbers)\n",
        "\n",
        "# Shows the result to the user\n",
        "print(f'Multiples of three: {mult_3}')"
      ],
      "metadata": {
        "id": "XHtEei1i3Nry",
        "colab": {
          "base_uri": "https://localhost:8080/"
        },
        "outputId": "06da4b61-fa9c-41d6-c123-100a24ec3732"
      },
      "execution_count": null,
      "outputs": [
        {
          "output_type": "stream",
          "name": "stdout",
          "text": [
            "Multiples of three: [24, 99]\n"
          ]
        }
      ]
    },
    {
      "cell_type": "markdown",
      "source": [
        "### **Challenge 4**\n",
        "\n",
        "Numbers squared"
      ],
      "metadata": {
        "id": "-XqEGnLuLV7V"
      }
    },
    {
      "cell_type": "code",
      "source": [
        "# Declares a number list\n",
        "numbers = [1, 2, 3, 4, 5, 6, 7, 8, 9, 10]\n",
        "\n",
        "# Convert data to list\n",
        "squared_numbers = list(map(lambda n: pow(n, 2), numbers))\n",
        "\n",
        "# Shows the result to the user\n",
        "print(f'List with squared Numbers: {squared_numbers}')"
      ],
      "metadata": {
        "colab": {
          "base_uri": "https://localhost:8080/"
        },
        "id": "cicjcfVmLpHR",
        "outputId": "506482a3-899f-429b-f6f6-898896664640"
      },
      "execution_count": null,
      "outputs": [
        {
          "output_type": "stream",
          "name": "stdout",
          "text": [
            "List with squared Numbers: [1, 4, 9, 16, 25, 36, 49, 64, 81, 100]\n"
          ]
        }
      ]
    },
    {
      "cell_type": "markdown",
      "source": [
        "### **Challenge 5**\n",
        "\n",
        "Grades of skateboard competition"
      ],
      "metadata": {
        "id": "CX5_idRXIpZ6"
      }
    },
    {
      "cell_type": "code",
      "source": [
        "# Declares a list to contain the grades\n",
        "grades = []\n",
        "\n",
        "# Receives the grades\n",
        "for i in range(1, 6):\n",
        "  grades.append(float(input(f'Enter the {i} grade: ')))\n",
        "\n",
        "# Finds the biggest and the lower grades of the list\n",
        "biggest = max(grades)\n",
        "lower = min(grades)\n",
        "\n",
        "# Remove the biggest and the lower grades from the list\n",
        "for grade in grades:\n",
        "  if grade == biggest or grade == lower:\n",
        "    grades.remove(grade)\n",
        "\n",
        "# Calculates the grade average\n",
        "average = sum(grades) / len(grades)\n",
        "\n",
        "# Present the grade average to the user\n",
        "print(f'The grade average is {average:.2f}')"
      ],
      "metadata": {
        "colab": {
          "base_uri": "https://localhost:8080/"
        },
        "id": "piS0vnPMJODx",
        "outputId": "13cf0acc-9668-4b1f-e0d3-667ec2d1f154"
      },
      "execution_count": 9,
      "outputs": [
        {
          "output_type": "stream",
          "name": "stdout",
          "text": [
            "Enter the 1 grade: 5\n",
            "Enter the 2 grade: 7\n",
            "Enter the 3 grade: 9\n",
            "Enter the 4 grade: 10\n",
            "Enter the 5 grade: 45\n",
            "The grade average is 8.67\n"
          ]
        }
      ]
    },
    {
      "cell_type": "markdown",
      "source": [
        "### **Challenge 6**\n",
        "\n",
        "Approved or disapproved student"
      ],
      "metadata": {
        "id": "W5YLVpJUNqVH"
      }
    },
    {
      "cell_type": "code",
      "source": [
        "# Declares a list to contain the grades\n",
        "grades = []\n",
        "\n",
        "# Receives the grades\n",
        "for i in range(1, 5):\n",
        "  grades.append(float(input(f'Enter the {i} grade: ')))\n",
        "\n",
        "# Finds the biggest and the lower grades\n",
        "biggest = max(grades)\n",
        "lower = min(grades)\n",
        "\n",
        "# Calculates the grade average\n",
        "average = sum(grades) / len(grades)\n",
        "\n",
        "# Verify if the student was approved or disapproved\n",
        "if average >= 7:\n",
        "  situation = 'Approved'\n",
        "else:\n",
        "  situation = 'Disapproved'\n",
        "\n",
        "# Return the student situation\n",
        "print(f'The student average is {average:.2f}, their biggest grade was: {biggest:.2f}, their lower grade was: {lower:.2f} and the student is {situation}!')"
      ],
      "metadata": {
        "colab": {
          "base_uri": "https://localhost:8080/"
        },
        "id": "Fwpk08-tOXrb",
        "outputId": "c56a1064-a06b-4dfa-be60-374c9eb3fb35"
      },
      "execution_count": 10,
      "outputs": [
        {
          "output_type": "stream",
          "name": "stdout",
          "text": [
            "Enter the 1 grade: 7\n",
            "Enter the 2 grade: 5\n",
            "Enter the 3 grade: 9\n",
            "Enter the 4 grade: 10\n",
            "The student average is 7.75, their biggest grade was: 10.00, their lower grade was: 5.00 and the student is Approved!\n"
          ]
        }
      ]
    },
    {
      "cell_type": "markdown",
      "source": [
        "### **Challenge 7**\n",
        "\n",
        "Names and last names"
      ],
      "metadata": {
        "id": "9uvkWVoAQFbA"
      }
    },
    {
      "cell_type": "code",
      "source": [
        "# Lists of names and last names\n",
        "names = [\"joão\", \"MaRia\", \"JOSÉ\"]\n",
        "last_names = [\"SILVA\", \"souza\", \"Tavares\"]\n",
        "\n",
        "# Return the complete name of each person\n",
        "complete_name = map(lambda name, last_name: f'{name.title()} {last_name.title()}', names, last_names)\n",
        "\n",
        "for n in complete_name:\n",
        "  print(f'Complete name: {n}')"
      ],
      "metadata": {
        "colab": {
          "base_uri": "https://localhost:8080/"
        },
        "id": "KGPTIRDYPvvF",
        "outputId": "1880f3e9-6df4-48bb-9b4f-112cec9319e6"
      },
      "execution_count": 13,
      "outputs": [
        {
          "output_type": "stream",
          "name": "stdout",
          "text": [
            "Complete name: João Silva\n",
            "Complete name: Maria Souza\n",
            "Complete name: José Tavares\n"
          ]
        }
      ]
    },
    {
      "cell_type": "markdown",
      "source": [
        "### **Challenge 8**\n",
        "\n",
        "Soccer league"
      ],
      "metadata": {
        "id": "NxwGd78KTsyd"
      }
    },
    {
      "cell_type": "code",
      "source": [
        "# Declares two lists that contain the number of goals scored and conceded\n",
        "goals_scored = [2, 1, 3, 1, 0]\n",
        "goals_conceded = [1, 2, 2, 1, 3]\n",
        "\n",
        "# Processes the team's score\n",
        "def score(goals_scored, goals_conceded):\n",
        "  team_score = 0\n",
        "  for i in range(len(goals_scored)):\n",
        "    if goals_scored[i] > goals_conceded[i]:\n",
        "      team_score += 3\n",
        "    elif goals_scored[i] == goals_conceded[i]:\n",
        "      team_score += 1\n",
        "  team_performance = 100 * team_score / (len(goals_scored) * 3)\n",
        "  return (team_score, team_performance)\n",
        "\n",
        "# Receives the team's score and performance\n",
        "team_score, team_performance = score(goals_scored, goals_conceded)\n",
        "\n",
        "print(f'Team score: {team_score:.2f} and team performance: {team_performance:.2f}%')"
      ],
      "metadata": {
        "colab": {
          "base_uri": "https://localhost:8080/"
        },
        "id": "vbPRXMn3UM9U",
        "outputId": "7efe9f42-5a06-4582-fd16-1fb4454d453d"
      },
      "execution_count": 17,
      "outputs": [
        {
          "output_type": "stream",
          "name": "stdout",
          "text": [
            "Team score: 7.00 and team performance: 46.67%\n"
          ]
        }
      ]
    },
    {
      "cell_type": "markdown",
      "source": [
        "### **Challenge 9**\n",
        "\n",
        "Trip to the north east of Brazil"
      ],
      "metadata": {
        "id": "21fX0RqRXtur"
      }
    },
    {
      "cell_type": "code",
      "source": [
        "# Declares three lists that contain the values of cities, food expenses and distance from a city to another\n",
        "cities = ['Salvador', 'Fortaleza', 'Natal', 'Aracaju']\n",
        "food_expenses = [200, 400, 250, 300]\n",
        "distance_km = [850, 800, 300, 550]\n",
        "\n",
        "# Numbers of days traveling\n",
        "days = 3\n",
        "\n",
        "# Hotels expenses\n",
        "hotel = 150 * days\n",
        "\n",
        "# Food expenses\n",
        "food = list(map(lambda food: food * days, food_expenses))\n",
        "\n",
        "# Gas expenses\n",
        "gas = list(map(lambda km: km / 14 * 5, distance_km))\n",
        "\n",
        "# Processes the destinations and their expenses\n",
        "destinations = list(map(lambda city, food, gas: f'Destination: {city}; hotel: R$ {hotel}; food: R$ {food}; and gas: R$ {round(gas, 2)}', cities, food, gas))\n",
        "\n",
        "for d in destinations:\n",
        "  print(d)"
      ],
      "metadata": {
        "colab": {
          "base_uri": "https://localhost:8080/"
        },
        "id": "SVkvNQ0KY9Ls",
        "outputId": "074a790a-8619-4130-8d99-3888ce71690c"
      },
      "execution_count": 26,
      "outputs": [
        {
          "output_type": "stream",
          "name": "stdout",
          "text": [
            "Destination: Salvador; hotel: R$ 450; food: R$ 600; and gas: R$ 303.57\n",
            "Destination: Fortaleza; hotel: R$ 450; food: R$ 1200; and gas: R$ 285.71\n",
            "Destination: Natal; hotel: R$ 450; food: R$ 750; and gas: R$ 107.14\n",
            "Destination: Aracaju; hotel: R$ 450; food: R$ 900; and gas: R$ 196.43\n"
          ]
        }
      ]
    },
    {
      "cell_type": "markdown",
      "source": [
        "### **Challenge 10**\n",
        "\n",
        "Filtering words"
      ],
      "metadata": {
        "id": "nphpdJ8KerdT"
      }
    },
    {
      "cell_type": "code",
      "source": [
        "# Receives a phrase\n",
        "phrase = input('Enter a phrase: ')\n",
        "\n",
        "words = phrase.replace(',', ' ').replace('.', ' ').replace('!', ' ').replace('?', ' ').split()\n",
        "\n",
        "filtered_words = list(filter(lambda word: len(word) >= 5, words))\n",
        "\n",
        "print(filtered_words)"
      ],
      "metadata": {
        "colab": {
          "base_uri": "https://localhost:8080/"
        },
        "id": "yB8dQ2F_faaw",
        "outputId": "a02934db-fdce-41b6-d6ab-752ff1b6b5a5"
      },
      "execution_count": 34,
      "outputs": [
        {
          "output_type": "stream",
          "name": "stdout",
          "text": [
            "Enter a phrase: John likes to play guitar\n",
            "['likes', 'guitar']\n"
          ]
        }
      ]
    }
  ]
}