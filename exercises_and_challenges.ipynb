{
  "nbformat": 4,
  "nbformat_minor": 0,
  "metadata": {
    "colab": {
      "provenance": [],
      "authorship_tag": "ABX9TyOk6TclUpjyXqUEDq9ab5SM",
      "include_colab_link": true
    },
    "kernelspec": {
      "name": "python3",
      "display_name": "Python 3"
    },
    "language_info": {
      "name": "python"
    }
  },
  "cells": [
    {
      "cell_type": "markdown",
      "metadata": {
        "id": "view-in-github",
        "colab_type": "text"
      },
      "source": [
        "<a href=\"https://colab.research.google.com/github/Matheus-Pombeiro/python-for-data-science/blob/main/exercises_and_challenges.ipynb\" target=\"_parent\"><img src=\"https://colab.research.google.com/assets/colab-badge.svg\" alt=\"Open In Colab\"/></a>"
      ]
    },
    {
      "cell_type": "markdown",
      "source": [
        "# **Python for Data Science**\n",
        "\n",
        "Exercises and challenges"
      ],
      "metadata": {
        "id": "AkoBB6JGDIQE"
      }
    },
    {
      "cell_type": "markdown",
      "source": [
        "### **EX 1**\n",
        "\n",
        "Import of randrange and sample from random"
      ],
      "metadata": {
        "id": "fuJFO9xGK9wx"
      }
    },
    {
      "cell_type": "code",
      "execution_count": null,
      "metadata": {
        "id": "bv82L_5nDHK8",
        "collapsed": true,
        "colab": {
          "base_uri": "https://localhost:8080/"
        },
        "outputId": "f4b96c5c-aae8-47b4-85f1-741f59777f26"
      },
      "outputs": [
        {
          "output_type": "execute_result",
          "data": {
            "text/plain": [
              "[87, 2, 28, 24, 8]"
            ]
          },
          "metadata": {},
          "execution_count": 13
        }
      ],
      "source": [
        "# Import of randrange and sample from random\n",
        "from random import randrange, sample\n",
        "\n",
        "list = []\n",
        "\n",
        "for i in range(0, 20):\n",
        "  list.append(randrange(100))\n",
        "\n",
        "sample(list, 5)"
      ]
    },
    {
      "cell_type": "markdown",
      "source": [
        "### **EX 2**\n",
        "\n",
        "Import all methods from math"
      ],
      "metadata": {
        "id": "OaQorpryLLiW"
      }
    },
    {
      "cell_type": "code",
      "source": [
        "# Import all methods from math\n",
        "from math import *\n",
        "\n",
        "n = int(input('Type a positive number to calculate its square root: '))\n",
        "print(f'\\nThe square root of {n} is the same as {sqrt(n)}')"
      ],
      "metadata": {
        "id": "_5mBb_NmGd1W"
      },
      "execution_count": null,
      "outputs": []
    },
    {
      "cell_type": "markdown",
      "source": [
        "### **EX 3**\n",
        "\n",
        "Import ceil from math"
      ],
      "metadata": {
        "id": "R3RxmFwoLQvC"
      }
    },
    {
      "cell_type": "code",
      "source": [
        "# Import ceil from math\n",
        "from math import ceil\n",
        "\n",
        "revenue = 1000\n",
        "unit_price = 15\n",
        "\n",
        "total_units = revenue / unit_price\n",
        "\n",
        "print(f'The company sold about {ceil(total_units)} units')"
      ],
      "metadata": {
        "id": "v8kogFk6JgDD"
      },
      "execution_count": null,
      "outputs": []
    },
    {
      "cell_type": "markdown",
      "source": [
        "### **Challenge 1**\n",
        "\n",
        "Import matplotlib"
      ],
      "metadata": {
        "id": "IwvvzyrgLT4G"
      }
    },
    {
      "cell_type": "code",
      "source": [
        "# Import matplotlib\n",
        "import matplotlib"
      ],
      "metadata": {
        "id": "h7klcby9KiZU"
      },
      "execution_count": null,
      "outputs": []
    },
    {
      "cell_type": "markdown",
      "source": [
        "### **Challenge 2**\n",
        "\n",
        "Import numpy"
      ],
      "metadata": {
        "id": "Adl9pXYyMsL0"
      }
    },
    {
      "cell_type": "code",
      "source": [
        "# Import numpy\n",
        "import numpy as np"
      ],
      "metadata": {
        "id": "GmWLz5pSKwr5"
      },
      "execution_count": null,
      "outputs": []
    },
    {
      "cell_type": "markdown",
      "source": [
        "### **Challenge 3**\n",
        "\n",
        "Choose a random number from the list"
      ],
      "metadata": {
        "id": "tNBuFfY-Mu87"
      }
    },
    {
      "cell_type": "code",
      "source": [
        "# Choose a random number from the list\n",
        "from random import choice\n",
        "\n",
        "list = [8, 12, 54, 23, 43, 1, 90, 87, 105, 77]\n",
        "\n",
        "number = choice(list)\n",
        "number\n"
      ],
      "metadata": {
        "id": "S5C5AMXvK42b"
      },
      "execution_count": null,
      "outputs": []
    },
    {
      "cell_type": "markdown",
      "source": [
        "### **Challenge 4**\n",
        "\n",
        "Draw a positive number lesser than 100"
      ],
      "metadata": {
        "id": "NmFWAkPnMxI3"
      }
    },
    {
      "cell_type": "code",
      "source": [
        "# Draw a positive number lesser than 100\n",
        "from random import randrange, sample\n",
        "\n",
        "list = []\n",
        "\n",
        "for i in range(0, 7):\n",
        "  list.append(randrange(100))\n",
        "\n",
        "sample(list, 1)"
      ],
      "metadata": {
        "id": "PPmpS7w6MzgM",
        "colab": {
          "base_uri": "https://localhost:8080/"
        },
        "outputId": "0bcf2b8a-f1b5-4fb8-921d-3146967a5bb4"
      },
      "execution_count": null,
      "outputs": [
        {
          "output_type": "execute_result",
          "data": {
            "text/plain": [
              "[19]"
            ]
          },
          "metadata": {},
          "execution_count": 2
        }
      ]
    },
    {
      "cell_type": "markdown",
      "source": [
        "### **Challenge 5**\n",
        "\n",
        "Calculate power with pow()"
      ],
      "metadata": {
        "id": "qaHDblGfOeqy"
      }
    },
    {
      "cell_type": "code",
      "source": [
        "# Calculate power with pow()\n",
        "from math import pow\n",
        "\n",
        "number_1 = int(input('Type a number: '))\n",
        "number_2 = int(input('Type another number: '))\n",
        "\n",
        "result = pow(number_1, number_2)\n",
        "\n",
        "print(f'The power of {number_1} raised to {number_2} is the same as {int(result)}')"
      ],
      "metadata": {
        "id": "-rruiA1tOgS1"
      },
      "execution_count": null,
      "outputs": []
    },
    {
      "cell_type": "markdown",
      "source": [
        "### **Challenge 6**\n",
        "\n",
        "Choose a random winner on a social media"
      ],
      "metadata": {
        "id": "d2kH2bg-P0iA"
      }
    },
    {
      "cell_type": "code",
      "source": [
        "# Choose a random winner on a social media\n",
        "list = []\n",
        "\n",
        "participants = int(input('Type the number of participants for the draw: '))\n",
        "\n",
        "for i in range(0, participants):\n",
        "  list.append(randrange(participants))\n",
        "\n",
        "winner = sample(list, 1)\n",
        "print(list)\n",
        "print(f'The winner is the participant number {winner}')"
      ],
      "metadata": {
        "id": "vYwwWtDDP1_6"
      },
      "execution_count": null,
      "outputs": []
    },
    {
      "cell_type": "markdown",
      "source": [
        "### **Challenge 7**\n",
        "\n",
        "Radomly generate an access token for the user"
      ],
      "metadata": {
        "id": "rVXjG95_pz5b"
      }
    },
    {
      "cell_type": "code",
      "source": [
        "# Radomly generate an access token for the user\n",
        "access_token = randrange(1000, 9998, 2)\n",
        "\n",
        "username = input('What is your name? ')\n",
        "\n",
        "print(f'Hi, {username}. Your access token is {access_token}. Welcome!')"
      ],
      "metadata": {
        "id": "FzXBnBRlp3jk"
      },
      "execution_count": null,
      "outputs": []
    },
    {
      "cell_type": "markdown",
      "source": [
        "### **Challenge 8**\n",
        "\n",
        "Choose three fruits radomly from the list of fruits of a fruit shop"
      ],
      "metadata": {
        "id": "GfsAY0Qhskwk"
      }
    },
    {
      "cell_type": "code",
      "source": [
        "# Choose three fruits radomly from the list of fruits of a fruit shop\n",
        "from random import choices\n",
        "\n",
        "fruits = ['Apple', 'Banana', 'Grape', 'Pear',\n",
        "          'Mango',  'Coconut', 'Watermelon', 'Papaya',\n",
        "          'Orange', 'Pineapple', 'Kiwi', 'Plum']\n",
        "\n",
        "fruit_salad = choices(fruits, k=3)\n",
        "print(f'Your fruit salad will be made using {fruit_salad[0]}, {fruit_salad[1]} and {fruit_salad[2]}.')\n"
      ],
      "metadata": {
        "colab": {
          "base_uri": "https://localhost:8080/"
        },
        "id": "xOyRjvF1sob2",
        "outputId": "0a994067-7128-422a-f965-1bb6ed8c7014"
      },
      "execution_count": null,
      "outputs": [
        {
          "output_type": "stream",
          "name": "stdout",
          "text": [
            "Your fruit salad will be made using Mango, Pineapple and Watermelon.\n"
          ]
        }
      ]
    },
    {
      "cell_type": "markdown",
      "source": [
        "### **Challenge 9**\n",
        "\n",
        "Determine the square roots of a list of number and verify if they are integer"
      ],
      "metadata": {
        "id": "TaQYspdPxLMl"
      }
    },
    {
      "cell_type": "code",
      "source": [
        "# Determine the square roots of a list of number and verify if they are integer\n",
        "from math import sqrt\n",
        "\n",
        "numbers = [2, 8, 15, 23, 91, 112, 256]\n",
        "\n",
        "for number in numbers:\n",
        "  square_root = sqrt(number)\n",
        "  if square_root // 1 == square_root:\n",
        "    print(f'The number {number} has a integer square root that is {square_root}.')"
      ],
      "metadata": {
        "id": "TozCoc54xRRq"
      },
      "execution_count": null,
      "outputs": []
    },
    {
      "cell_type": "markdown",
      "source": [
        "### **Challenge 10**\n",
        "\n",
        "Discover the price of a piece of grass for garden based on diameter calculation"
      ],
      "metadata": {
        "id": "Hun5O-7rzSJg"
      }
    },
    {
      "cell_type": "code",
      "source": [
        "# Discover the price of a piece of grass for garden based on diameter calculation\n",
        "from math import pi, pow\n",
        "\n",
        "diameter = float(input('What is the diameter of the piece of grass that you want to buy? '))\n",
        "\n",
        "area = pi * pow(diameter, 2)\n",
        "\n",
        "price = area * 25\n",
        "\n",
        "print(f'The price for your grass is US$ {price:.2f}')"
      ],
      "metadata": {
        "colab": {
          "base_uri": "https://localhost:8080/"
        },
        "id": "OEeG_VIYzS4T",
        "outputId": "7e32d4bd-269c-43c6-87bf-7bef27204057"
      },
      "execution_count": null,
      "outputs": [
        {
          "output_type": "stream",
          "name": "stdout",
          "text": [
            "What is the diameter of the piece of grass that you want to buy? 1\n",
            "The price for your grass is US$ 78.54\n"
          ]
        }
      ]
    }
  ]
}