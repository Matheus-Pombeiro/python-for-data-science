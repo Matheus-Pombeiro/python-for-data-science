{
  "nbformat": 4,
  "nbformat_minor": 0,
  "metadata": {
    "colab": {
      "provenance": [],
      "authorship_tag": "ABX9TyNdPWchFWQp5kShxslThgc7",
      "include_colab_link": true
    },
    "kernelspec": {
      "name": "python3",
      "display_name": "Python 3"
    },
    "language_info": {
      "name": "python"
    }
  },
  "cells": [
    {
      "cell_type": "markdown",
      "metadata": {
        "id": "view-in-github",
        "colab_type": "text"
      },
      "source": [
        "<a href=\"https://colab.research.google.com/github/Matheus-Pombeiro/python-for-data-science/blob/main/exercises_and_challenges.ipynb\" target=\"_parent\"><img src=\"https://colab.research.google.com/assets/colab-badge.svg\" alt=\"Open In Colab\"/></a>"
      ]
    },
    {
      "cell_type": "markdown",
      "source": [
        "# **Python for Data Science**\n",
        "\n",
        "## Exercises and challenges"
      ],
      "metadata": {
        "id": "AkoBB6JGDIQE"
      }
    },
    {
      "cell_type": "markdown",
      "source": [
        "# First class - Libraries"
      ],
      "metadata": {
        "id": "0xkSLPYiuf9M"
      }
    },
    {
      "cell_type": "markdown",
      "source": [
        "### **EX 1**\n",
        "\n",
        "Import of randrange and sample from random"
      ],
      "metadata": {
        "id": "fuJFO9xGK9wx"
      }
    },
    {
      "cell_type": "code",
      "execution_count": null,
      "metadata": {
        "id": "bv82L_5nDHK8",
        "collapsed": true,
        "colab": {
          "base_uri": "https://localhost:8080/"
        },
        "outputId": "79371d8a-932f-475a-b0db-432ecfe74774"
      },
      "outputs": [
        {
          "output_type": "execute_result",
          "data": {
            "text/plain": [
              "[63, 61, 95, 93, 96]"
            ]
          },
          "metadata": {},
          "execution_count": 6
        }
      ],
      "source": [
        "# Import of randrange and sample from random\n",
        "from random import randrange, sample\n",
        "\n",
        "list = []\n",
        "\n",
        "for i in range(0, 20):\n",
        "  list.append(randrange(100))\n",
        "\n",
        "sample(list, 5)"
      ]
    },
    {
      "cell_type": "markdown",
      "source": [
        "### **EX 2**\n",
        "\n",
        "Import all methods from math"
      ],
      "metadata": {
        "id": "OaQorpryLLiW"
      }
    },
    {
      "cell_type": "code",
      "source": [
        "# Import all methods from math\n",
        "from math import *\n",
        "\n",
        "n = int(input('Type a positive number to calculate its square root: '))\n",
        "print(f'\\nThe square root of {n} is the same as {sqrt(n)}')"
      ],
      "metadata": {
        "id": "_5mBb_NmGd1W",
        "colab": {
          "base_uri": "https://localhost:8080/"
        },
        "outputId": "044d1896-eae8-44a7-fd30-bf0527c1cbe9"
      },
      "execution_count": null,
      "outputs": [
        {
          "output_type": "stream",
          "name": "stdout",
          "text": [
            "Type a positive number to calculate its square root: 2\n",
            "\n",
            "The square root of 2 is the same as 1.4142135623730951\n"
          ]
        }
      ]
    },
    {
      "cell_type": "markdown",
      "source": [
        "### **EX 3**\n",
        "\n",
        "Import ceil from math"
      ],
      "metadata": {
        "id": "R3RxmFwoLQvC"
      }
    },
    {
      "cell_type": "code",
      "source": [
        "# Import ceil from math\n",
        "from math import ceil\n",
        "\n",
        "revenue = 1000\n",
        "unit_price = 15\n",
        "\n",
        "total_units = revenue / unit_price\n",
        "\n",
        "print(f'The company sold about {ceil(total_units)} units')"
      ],
      "metadata": {
        "id": "v8kogFk6JgDD",
        "colab": {
          "base_uri": "https://localhost:8080/"
        },
        "outputId": "74e19792-c5ad-458e-d2aa-993196bc27e1"
      },
      "execution_count": null,
      "outputs": [
        {
          "output_type": "stream",
          "name": "stdout",
          "text": [
            "The company sold about 67 units\n"
          ]
        }
      ]
    },
    {
      "cell_type": "markdown",
      "source": [
        "### **Challenge 1**\n",
        "\n",
        "Import matplotlib"
      ],
      "metadata": {
        "id": "IwvvzyrgLT4G"
      }
    },
    {
      "cell_type": "code",
      "source": [
        "# Import matplotlib\n",
        "import matplotlib"
      ],
      "metadata": {
        "id": "h7klcby9KiZU"
      },
      "execution_count": null,
      "outputs": []
    },
    {
      "cell_type": "markdown",
      "source": [
        "### **Challenge 2**\n",
        "\n",
        "Import numpy"
      ],
      "metadata": {
        "id": "Adl9pXYyMsL0"
      }
    },
    {
      "cell_type": "code",
      "source": [
        "# Import numpy\n",
        "import numpy as np"
      ],
      "metadata": {
        "id": "GmWLz5pSKwr5"
      },
      "execution_count": null,
      "outputs": []
    },
    {
      "cell_type": "markdown",
      "source": [
        "### **Challenge 3**\n",
        "\n",
        "Choose a random number from the list"
      ],
      "metadata": {
        "id": "tNBuFfY-Mu87"
      }
    },
    {
      "cell_type": "code",
      "source": [
        "# Choose a random number from the list\n",
        "from random import choice\n",
        "\n",
        "list = [8, 12, 54, 23, 43, 1, 90, 87, 105, 77]\n",
        "\n",
        "number = choice(list)\n",
        "number\n"
      ],
      "metadata": {
        "id": "S5C5AMXvK42b",
        "colab": {
          "base_uri": "https://localhost:8080/"
        },
        "outputId": "1c9096a7-5a99-4d04-ffc6-5c1a76198ac3"
      },
      "execution_count": null,
      "outputs": [
        {
          "output_type": "execute_result",
          "data": {
            "text/plain": [
              "43"
            ]
          },
          "metadata": {},
          "execution_count": 1
        }
      ]
    },
    {
      "cell_type": "markdown",
      "source": [
        "### **Challenge 4**\n",
        "\n",
        "Draw a positive number lesser than 100"
      ],
      "metadata": {
        "id": "NmFWAkPnMxI3"
      }
    },
    {
      "cell_type": "code",
      "source": [
        "# Draw a positive number lesser than 100\n",
        "from random import randrange, sample\n",
        "\n",
        "list = []\n",
        "\n",
        "for i in range(0, 7):\n",
        "  list.append(randrange(100))\n",
        "\n",
        "sample(list, 1)"
      ],
      "metadata": {
        "id": "PPmpS7w6MzgM",
        "colab": {
          "base_uri": "https://localhost:8080/"
        },
        "outputId": "0bcf2b8a-f1b5-4fb8-921d-3146967a5bb4"
      },
      "execution_count": null,
      "outputs": [
        {
          "output_type": "execute_result",
          "data": {
            "text/plain": [
              "[19]"
            ]
          },
          "metadata": {},
          "execution_count": 2
        }
      ]
    },
    {
      "cell_type": "markdown",
      "source": [
        "### **Challenge 5**\n",
        "\n",
        "Calculate power with pow()"
      ],
      "metadata": {
        "id": "qaHDblGfOeqy"
      }
    },
    {
      "cell_type": "code",
      "source": [
        "# Calculate power with pow()\n",
        "from math import pow\n",
        "\n",
        "number_1 = int(input('Type a number: '))\n",
        "number_2 = int(input('Type another number: '))\n",
        "\n",
        "result = pow(number_1, number_2)\n",
        "\n",
        "print(f'The power of {number_1} raised to {number_2} is the same as {int(result)}')"
      ],
      "metadata": {
        "id": "-rruiA1tOgS1",
        "colab": {
          "base_uri": "https://localhost:8080/"
        },
        "outputId": "0345e608-3752-4d3c-ac7f-82fb38170f1a"
      },
      "execution_count": null,
      "outputs": [
        {
          "output_type": "stream",
          "name": "stdout",
          "text": [
            "Type a number: 5\n",
            "Type another number: 7\n",
            "The power of 5 raised to 7 is the same as 78125\n"
          ]
        }
      ]
    },
    {
      "cell_type": "markdown",
      "source": [
        "### **Challenge 6**\n",
        "\n",
        "Choose a random winner on a social media"
      ],
      "metadata": {
        "id": "d2kH2bg-P0iA"
      }
    },
    {
      "cell_type": "code",
      "source": [
        "# Choose a random winner on a social media\n",
        "from random import randint\n",
        "\n",
        "number = int(input('Enter the number of participants in the draw: '))\n",
        "\n",
        "print(f'The winner is the participant number {randint(1, number)}')"
      ],
      "metadata": {
        "id": "vYwwWtDDP1_6",
        "colab": {
          "base_uri": "https://localhost:8080/"
        },
        "outputId": "61504106-43ed-4404-86d6-6cf2dff70031"
      },
      "execution_count": null,
      "outputs": [
        {
          "output_type": "stream",
          "name": "stdout",
          "text": [
            "Enter the number of participants in the draw: 5\n",
            "The winner is the participant number 3\n"
          ]
        }
      ]
    },
    {
      "cell_type": "markdown",
      "source": [
        "### **Challenge 7**\n",
        "\n",
        "Radomly generate an access token for the user"
      ],
      "metadata": {
        "id": "rVXjG95_pz5b"
      }
    },
    {
      "cell_type": "code",
      "source": [
        "# Radomly generate an access token for the user\n",
        "access_token = randrange(1000, 9998, 2)\n",
        "\n",
        "username = input('What is your name? ')\n",
        "\n",
        "print(f'Hi, {username}. Your access token is {access_token}. Welcome!')"
      ],
      "metadata": {
        "id": "FzXBnBRlp3jk",
        "colab": {
          "base_uri": "https://localhost:8080/"
        },
        "outputId": "4875e3f4-8824-46d5-f919-9f53643836f9"
      },
      "execution_count": null,
      "outputs": [
        {
          "output_type": "stream",
          "name": "stdout",
          "text": [
            "What is your name? Matheus\n",
            "Hi, Matheus. Your access token is 9430. Welcome!\n"
          ]
        }
      ]
    },
    {
      "cell_type": "markdown",
      "source": [
        "### **Challenge 8**\n",
        "\n",
        "Choose three fruits radomly from the list of fruits of a fruit shop"
      ],
      "metadata": {
        "id": "GfsAY0Qhskwk"
      }
    },
    {
      "cell_type": "code",
      "source": [
        "# Choose three fruits radomly from the list of fruits of a fruit shop\n",
        "from random import choices\n",
        "\n",
        "fruits = ['Apple', 'Banana', 'Grape', 'Pear',\n",
        "          'Mango',  'Coconut', 'Watermelon', 'Papaya',\n",
        "          'Orange', 'Pineapple', 'Kiwi', 'Plum']\n",
        "\n",
        "fruit_salad = choices(fruits, k=3)\n",
        "print(f'Your fruit salad will be made using {fruit_salad[0]}, {fruit_salad[1]} and {fruit_salad[2]}.')\n"
      ],
      "metadata": {
        "colab": {
          "base_uri": "https://localhost:8080/"
        },
        "id": "xOyRjvF1sob2",
        "outputId": "0a994067-7128-422a-f965-1bb6ed8c7014"
      },
      "execution_count": null,
      "outputs": [
        {
          "output_type": "stream",
          "name": "stdout",
          "text": [
            "Your fruit salad will be made using Mango, Pineapple and Watermelon.\n"
          ]
        }
      ]
    },
    {
      "cell_type": "markdown",
      "source": [
        "### **Challenge 9**\n",
        "\n",
        "Determine the square roots of a list of number and verify if they are integer"
      ],
      "metadata": {
        "id": "TaQYspdPxLMl"
      }
    },
    {
      "cell_type": "code",
      "source": [
        "# Determine the square roots of a list of number and verify if they are integer\n",
        "from math import sqrt\n",
        "\n",
        "numbers = [2, 8, 15, 23, 91, 112, 256]\n",
        "\n",
        "for number in numbers:\n",
        "  square_root = sqrt(number)\n",
        "  if square_root // 1 == square_root:\n",
        "    print(f'The number {number} has a integer square root that is {square_root}.')"
      ],
      "metadata": {
        "id": "TozCoc54xRRq",
        "colab": {
          "base_uri": "https://localhost:8080/"
        },
        "outputId": "0e9fc7d4-6cf1-489e-b9dc-19daf891bcc2"
      },
      "execution_count": null,
      "outputs": [
        {
          "output_type": "stream",
          "name": "stdout",
          "text": [
            "The number 256 has a integer square root that is 16.0.\n"
          ]
        }
      ]
    },
    {
      "cell_type": "markdown",
      "source": [
        "### **Challenge 10**\n",
        "\n",
        "Discover the price of a piece of grass for garden based on diameter calculation"
      ],
      "metadata": {
        "id": "Hun5O-7rzSJg"
      }
    },
    {
      "cell_type": "code",
      "source": [
        "# Discover the price of a piece of grass for garden based on diameter calculation\n",
        "from math import pi, pow\n",
        "\n",
        "diameter = float(input('What is the diameter of the piece of grass that you want to buy? '))\n",
        "\n",
        "area = pi * pow(diameter, 2)\n",
        "\n",
        "price = area * 25\n",
        "\n",
        "print(f'The price for your grass is US$ {price:.2f}')"
      ],
      "metadata": {
        "colab": {
          "base_uri": "https://localhost:8080/"
        },
        "id": "OEeG_VIYzS4T",
        "outputId": "7e32d4bd-269c-43c6-87bf-7bef27204057"
      },
      "execution_count": null,
      "outputs": [
        {
          "output_type": "stream",
          "name": "stdout",
          "text": [
            "What is the diameter of the piece of grass that you want to buy? 1\n",
            "The price for your grass is US$ 78.54\n"
          ]
        }
      ]
    },
    {
      "cell_type": "markdown",
      "source": [
        "# Second class - Functions"
      ],
      "metadata": {
        "id": "oQH7q6yCur9j"
      }
    },
    {
      "cell_type": "markdown",
      "source": [
        "### **Challenge 1**\n",
        "\n",
        "Extracting information from a list"
      ],
      "metadata": {
        "id": "iALPOy7Yu9ey"
      }
    },
    {
      "cell_type": "code",
      "source": [
        "# Determines a number list\n",
        "list = [16, 14, 63, 65, 17, 99, 70, 11, 20, 48, 79, 32, 17, 89, 12, 25, 66]\n",
        "\n",
        "# Returns the list length\n",
        "length = len(list)\n",
        "\n",
        "# Finds the list's biggest value\n",
        "biggest = max(list)\n",
        "\n",
        "# Finds the list's lower value\n",
        "lower = min(list)\n",
        "\n",
        "# Sums the list's values\n",
        "sum = sum(list)\n",
        "\n",
        "print(f'The list length is {length}')\n",
        "print(f'The list biggest value is {biggest}')\n",
        "print(f'The list lower value is {lower}')\n",
        "print(f'The list sum is {sum}')"
      ],
      "metadata": {
        "colab": {
          "base_uri": "https://localhost:8080/"
        },
        "id": "q4f8yQoXv_7P",
        "outputId": "bd25cb1b-7ed5-41d8-c046-c04d409fd527"
      },
      "execution_count": null,
      "outputs": [
        {
          "output_type": "stream",
          "name": "stdout",
          "text": [
            "The list length is 17\n",
            "The list biggest value is 99\n",
            "The list lower value is 11\n",
            "The list sum is 743\n"
          ]
        }
      ]
    },
    {
      "cell_type": "markdown",
      "source": [
        "### **Challenge 2**\n",
        "\n",
        "Calculating the multiplication table"
      ],
      "metadata": {
        "id": "s10skpE21aWE"
      }
    },
    {
      "cell_type": "code",
      "source": [
        "# Receives a user number\n",
        "n = int(input('Enter a number to calculate its multiplication table: '))\n",
        "\n",
        "# Calculates the multiplication table from 0 to 10 on the user number\n",
        "def multiplication_table(n):\n",
        "  for i in range(0, 11):\n",
        "    print(f'{n} x {i} = {n * i}')\n",
        "\n",
        "multiplication_table(n)"
      ],
      "metadata": {
        "colab": {
          "base_uri": "https://localhost:8080/"
        },
        "id": "dNob9F2O1mBS",
        "outputId": "c795c6a3-c75a-4060-f923-35a2c50fbe7c"
      },
      "execution_count": null,
      "outputs": [
        {
          "output_type": "stream",
          "name": "stdout",
          "text": [
            "Enter a number to calculate its multiplication table: 7\n",
            "7 x 0 = 0\n",
            "7 x 1 = 7\n",
            "7 x 2 = 14\n",
            "7 x 3 = 21\n",
            "7 x 4 = 28\n",
            "7 x 5 = 35\n",
            "7 x 6 = 42\n",
            "7 x 7 = 49\n",
            "7 x 8 = 56\n",
            "7 x 9 = 63\n",
            "7 x 10 = 70\n"
          ]
        }
      ]
    },
    {
      "cell_type": "markdown",
      "source": [
        "### **Challenge 3**\n",
        "\n",
        "Returns a list with multiples of 3"
      ],
      "metadata": {
        "id": "TpUTUzKZ3MLy"
      }
    },
    {
      "cell_type": "code",
      "source": [
        "# Declares a number list\n",
        "numbers = [97, 80, 94, 88, 80, 1, 16, 53, 62, 32, 24, 99]\n",
        "\n",
        "# Declares a list to keep multiples of three\n",
        "mult_3 = []\n",
        "\n",
        "# Declares a function to verify if the number is a multiple of three\n",
        "def multiples_of_three(numbers):\n",
        "  for n in numbers:\n",
        "    if n % 3 == 0:\n",
        "      mult_3.append(n)\n",
        "\n",
        "# Calls the function 'multiples_of_three'\n",
        "multiples_of_three(numbers)\n",
        "\n",
        "# Shows the result to the user\n",
        "print(f'Multiples of three: {mult_3}')"
      ],
      "metadata": {
        "id": "XHtEei1i3Nry",
        "colab": {
          "base_uri": "https://localhost:8080/"
        },
        "outputId": "06da4b61-fa9c-41d6-c123-100a24ec3732"
      },
      "execution_count": null,
      "outputs": [
        {
          "output_type": "stream",
          "name": "stdout",
          "text": [
            "Multiples of three: [24, 99]\n"
          ]
        }
      ]
    },
    {
      "cell_type": "markdown",
      "source": [
        "### **Challenge 4**\n",
        "\n",
        "Numbers squared"
      ],
      "metadata": {
        "id": "-XqEGnLuLV7V"
      }
    },
    {
      "cell_type": "code",
      "source": [
        "# Declares a number list\n",
        "numbers = [1, 2, 3, 4, 5, 6, 7, 8, 9, 10]\n",
        "\n",
        "# Convert data to list\n",
        "squared_numbers = list(map(lambda n: pow(n, 2), numbers))\n",
        "\n",
        "# Shows the result to the user\n",
        "print(f'List with squared Numbers: {squared_numbers}')"
      ],
      "metadata": {
        "colab": {
          "base_uri": "https://localhost:8080/"
        },
        "id": "cicjcfVmLpHR",
        "outputId": "506482a3-899f-429b-f6f6-898896664640"
      },
      "execution_count": null,
      "outputs": [
        {
          "output_type": "stream",
          "name": "stdout",
          "text": [
            "List with squared Numbers: [1, 4, 9, 16, 25, 36, 49, 64, 81, 100]\n"
          ]
        }
      ]
    },
    {
      "cell_type": "markdown",
      "source": [
        "### **Challenge 5**\n",
        "\n",
        "Grades of skateboard competition"
      ],
      "metadata": {
        "id": "CX5_idRXIpZ6"
      }
    },
    {
      "cell_type": "code",
      "source": [
        "# Declares a list to contain the grades\n",
        "grades = []\n",
        "\n",
        "# Receives the grades\n",
        "for i in range(1, 6):\n",
        "  grades.append(float(input(f'Enter the {i} grade: ')))\n",
        "\n",
        "# Finds the biggest and the lower grades of the list\n",
        "biggest = max(grades)\n",
        "lower = min(grades)\n",
        "\n",
        "# Remove the biggest and the lower grades from the list\n",
        "for grade in grades:\n",
        "  if grade == biggest or grade == lower:\n",
        "    grades.remove(grade)\n",
        "\n",
        "# Calculates the grade average\n",
        "average = sum(grades) / len(grades)\n",
        "\n",
        "# Present the grade average to the user\n",
        "print(f'The grade average is {average:.2f}')"
      ],
      "metadata": {
        "colab": {
          "base_uri": "https://localhost:8080/"
        },
        "id": "piS0vnPMJODx",
        "outputId": "13cf0acc-9668-4b1f-e0d3-667ec2d1f154"
      },
      "execution_count": null,
      "outputs": [
        {
          "output_type": "stream",
          "name": "stdout",
          "text": [
            "Enter the 1 grade: 5\n",
            "Enter the 2 grade: 7\n",
            "Enter the 3 grade: 9\n",
            "Enter the 4 grade: 10\n",
            "Enter the 5 grade: 45\n",
            "The grade average is 8.67\n"
          ]
        }
      ]
    },
    {
      "cell_type": "markdown",
      "source": [
        "### **Challenge 6**\n",
        "\n",
        "Approved or disapproved student"
      ],
      "metadata": {
        "id": "W5YLVpJUNqVH"
      }
    },
    {
      "cell_type": "code",
      "source": [
        "# Declares a list to contain the grades\n",
        "grades = []\n",
        "\n",
        "# Receives the grades\n",
        "for i in range(1, 5):\n",
        "  grades.append(float(input(f'Enter the {i} grade: ')))\n",
        "\n",
        "# Finds the biggest and the lower grades\n",
        "biggest = max(grades)\n",
        "lower = min(grades)\n",
        "\n",
        "# Calculates the grade average\n",
        "average = sum(grades) / len(grades)\n",
        "\n",
        "# Verify if the student was approved or disapproved\n",
        "if average >= 7:\n",
        "  situation = 'Approved'\n",
        "else:\n",
        "  situation = 'Disapproved'\n",
        "\n",
        "# Return the student situation\n",
        "print(f'The student average is {average:.2f}, their biggest grade was: {biggest:.2f}, their lower grade was: {lower:.2f} and the student is {situation}!')"
      ],
      "metadata": {
        "colab": {
          "base_uri": "https://localhost:8080/"
        },
        "id": "Fwpk08-tOXrb",
        "outputId": "c56a1064-a06b-4dfa-be60-374c9eb3fb35"
      },
      "execution_count": null,
      "outputs": [
        {
          "output_type": "stream",
          "name": "stdout",
          "text": [
            "Enter the 1 grade: 7\n",
            "Enter the 2 grade: 5\n",
            "Enter the 3 grade: 9\n",
            "Enter the 4 grade: 10\n",
            "The student average is 7.75, their biggest grade was: 10.00, their lower grade was: 5.00 and the student is Approved!\n"
          ]
        }
      ]
    },
    {
      "cell_type": "markdown",
      "source": [
        "### **Challenge 7**\n",
        "\n",
        "Names and last names"
      ],
      "metadata": {
        "id": "9uvkWVoAQFbA"
      }
    },
    {
      "cell_type": "code",
      "source": [
        "# Lists of names and last names\n",
        "names = [\"joão\", \"MaRia\", \"JOSÉ\"]\n",
        "last_names = [\"SILVA\", \"souza\", \"Tavares\"]\n",
        "\n",
        "# Return the complete name of each person\n",
        "complete_name = map(lambda name, last_name: f'{name.title()} {last_name.title()}', names, last_names)\n",
        "\n",
        "for n in complete_name:\n",
        "  print(f'Complete name: {n}')"
      ],
      "metadata": {
        "colab": {
          "base_uri": "https://localhost:8080/"
        },
        "id": "KGPTIRDYPvvF",
        "outputId": "1880f3e9-6df4-48bb-9b4f-112cec9319e6"
      },
      "execution_count": null,
      "outputs": [
        {
          "output_type": "stream",
          "name": "stdout",
          "text": [
            "Complete name: João Silva\n",
            "Complete name: Maria Souza\n",
            "Complete name: José Tavares\n"
          ]
        }
      ]
    },
    {
      "cell_type": "markdown",
      "source": [
        "### **Challenge 8**\n",
        "\n",
        "Soccer league"
      ],
      "metadata": {
        "id": "NxwGd78KTsyd"
      }
    },
    {
      "cell_type": "code",
      "source": [
        "# Declares two lists that contain the number of goals scored and conceded\n",
        "goals_scored = [2, 1, 3, 1, 0]\n",
        "goals_conceded = [1, 2, 2, 1, 3]\n",
        "\n",
        "# Processes the team's score\n",
        "def score(goals_scored, goals_conceded):\n",
        "  team_score = 0\n",
        "  for i in range(len(goals_scored)):\n",
        "    if goals_scored[i] > goals_conceded[i]:\n",
        "      team_score += 3\n",
        "    elif goals_scored[i] == goals_conceded[i]:\n",
        "      team_score += 1\n",
        "  team_performance = 100 * team_score / (len(goals_scored) * 3)\n",
        "  return (team_score, team_performance)\n",
        "\n",
        "# Receives the team's score and performance\n",
        "team_score, team_performance = score(goals_scored, goals_conceded)\n",
        "\n",
        "print(f'Team score: {team_score:.2f} and team performance: {team_performance:.2f}%')"
      ],
      "metadata": {
        "colab": {
          "base_uri": "https://localhost:8080/"
        },
        "id": "vbPRXMn3UM9U",
        "outputId": "7efe9f42-5a06-4582-fd16-1fb4454d453d"
      },
      "execution_count": null,
      "outputs": [
        {
          "output_type": "stream",
          "name": "stdout",
          "text": [
            "Team score: 7.00 and team performance: 46.67%\n"
          ]
        }
      ]
    },
    {
      "cell_type": "markdown",
      "source": [
        "### **Challenge 9**\n",
        "\n",
        "Trip to the north east of Brazil"
      ],
      "metadata": {
        "id": "21fX0RqRXtur"
      }
    },
    {
      "cell_type": "code",
      "source": [
        "# Declares three lists that contain the values of cities, food expenses and distance from a city to another\n",
        "cities = ['Salvador', 'Fortaleza', 'Natal', 'Aracaju']\n",
        "food_expenses = [200, 400, 250, 300]\n",
        "distance_km = [850, 800, 300, 550]\n",
        "\n",
        "# Numbers of days traveling\n",
        "days = 3\n",
        "\n",
        "# Hotels expenses\n",
        "hotel = 150 * days\n",
        "\n",
        "# Food expenses\n",
        "food = list(map(lambda food: food * days, food_expenses))\n",
        "\n",
        "# Gas expenses\n",
        "gas = list(map(lambda km: km / 14 * 5, distance_km))\n",
        "\n",
        "# Processes the destinations and their expenses\n",
        "destinations = list(map(lambda city, food, gas: f'Destination: {city}; hotel: R$ {hotel}; food: R$ {food}; and gas: R$ {round(gas, 2)}', cities, food, gas))\n",
        "\n",
        "for d in destinations:\n",
        "  print(d)"
      ],
      "metadata": {
        "colab": {
          "base_uri": "https://localhost:8080/"
        },
        "id": "SVkvNQ0KY9Ls",
        "outputId": "074a790a-8619-4130-8d99-3888ce71690c"
      },
      "execution_count": null,
      "outputs": [
        {
          "output_type": "stream",
          "name": "stdout",
          "text": [
            "Destination: Salvador; hotel: R$ 450; food: R$ 600; and gas: R$ 303.57\n",
            "Destination: Fortaleza; hotel: R$ 450; food: R$ 1200; and gas: R$ 285.71\n",
            "Destination: Natal; hotel: R$ 450; food: R$ 750; and gas: R$ 107.14\n",
            "Destination: Aracaju; hotel: R$ 450; food: R$ 900; and gas: R$ 196.43\n"
          ]
        }
      ]
    },
    {
      "cell_type": "markdown",
      "source": [
        "### **Challenge 10**\n",
        "\n",
        "Filtering words"
      ],
      "metadata": {
        "id": "nphpdJ8KerdT"
      }
    },
    {
      "cell_type": "code",
      "source": [
        "# Receives a phrase\n",
        "phrase = input('Enter a phrase: ')\n",
        "\n",
        "words = phrase.replace(',', ' ').replace('.', ' ').replace('!', ' ').replace('?', ' ').split()\n",
        "\n",
        "filtered_words = list(filter(lambda word: len(word) >= 5, words))\n",
        "\n",
        "print(filtered_words)"
      ],
      "metadata": {
        "colab": {
          "base_uri": "https://localhost:8080/"
        },
        "id": "yB8dQ2F_faaw",
        "outputId": "a02934db-fdce-41b6-d6ab-752ff1b6b5a5"
      },
      "execution_count": null,
      "outputs": [
        {
          "output_type": "stream",
          "name": "stdout",
          "text": [
            "Enter a phrase: John likes to play guitar\n",
            "['likes', 'guitar']\n"
          ]
        }
      ]
    },
    {
      "cell_type": "markdown",
      "source": [
        "# Third class - Data structures"
      ],
      "metadata": {
        "id": "cat1lh3cs5fw"
      }
    },
    {
      "cell_type": "markdown",
      "source": [
        "### **Challenge 1**\n",
        "\n",
        "Sum lists"
      ],
      "metadata": {
        "id": "NWF4nwErtCZE"
      }
    },
    {
      "cell_type": "code",
      "source": [
        "# Declares a list of lists containing numbers\n",
        "numbers = [[4,6,5,9], [1,0,7,2], [3,4,1,8]]\n",
        "\n",
        "# Declares a list to contain the sums\n",
        "sums = []\n",
        "\n",
        "# Sums the numbers of each list of numbers\n",
        "for n in numbers:\n",
        "  sums.append(sum(n))\n",
        "\n",
        "sums"
      ],
      "metadata": {
        "colab": {
          "base_uri": "https://localhost:8080/"
        },
        "id": "4E4SaIAztMqc",
        "outputId": "b38cf1ad-80df-441d-8763-a4f173f3315f"
      },
      "execution_count": null,
      "outputs": [
        {
          "output_type": "execute_result",
          "data": {
            "text/plain": [
              "[24, 10, 16]"
            ]
          },
          "metadata": {},
          "execution_count": 1
        }
      ]
    },
    {
      "cell_type": "markdown",
      "source": [
        "### **Challenge 2**\n",
        "\n",
        "Keeping an item from a tuple list"
      ],
      "metadata": {
        "id": "t_vRzgI8wKBG"
      }
    },
    {
      "cell_type": "code",
      "source": [
        "# Declares a tuple list with people's data\n",
        "people = [('Pedro', 1.74, 81), ('Júlia', 1.65, 67), ('Otávio', 1.81, 83)]\n",
        "\n",
        "# Declares a list to keep the third item from each tuple from the people's data list\n",
        "third_data = []\n",
        "\n",
        "# Add the third element inside the list\n",
        "for p in people:\n",
        "  third_data.append(p[2])\n",
        "\n",
        "third_data"
      ],
      "metadata": {
        "colab": {
          "base_uri": "https://localhost:8080/"
        },
        "id": "Atx9mXzkwXlY",
        "outputId": "6d56d4f3-c6c1-413c-94b3-9fe0f130c0eb"
      },
      "execution_count": null,
      "outputs": [
        {
          "output_type": "execute_result",
          "data": {
            "text/plain": [
              "[81, 67, 83]"
            ]
          },
          "metadata": {},
          "execution_count": 2
        }
      ]
    },
    {
      "cell_type": "markdown",
      "source": [
        "### **Challenge 3**\n",
        "\n",
        "Generating a new tuple list"
      ],
      "metadata": {
        "id": "tX1HlOBxxImh"
      }
    },
    {
      "cell_type": "code",
      "source": [
        "# Declares a list with people's data\n",
        "people = ['Pedro', 'Júlia', 'Otávio', 'Eduardo']\n",
        "\n",
        "# Declares a list to keep tuples with people's data\n",
        "people_data = []\n",
        "\n",
        "# Generates a tuple list with the people's data\n",
        "for i in range(len(people)):\n",
        "  people_data.append((i, people[i]))\n",
        "\n",
        "people_data"
      ],
      "metadata": {
        "id": "o0qB6m86xsv8",
        "colab": {
          "base_uri": "https://localhost:8080/"
        },
        "outputId": "24488e30-4df4-4c95-fbac-a7f836ac8c68"
      },
      "execution_count": null,
      "outputs": [
        {
          "output_type": "execute_result",
          "data": {
            "text/plain": [
              "[(0, 'Pedro'), (1, 'Júlia'), (2, 'Otávio'), (3, 'Eduardo')]"
            ]
          },
          "metadata": {},
          "execution_count": 1
        }
      ]
    },
    {
      "cell_type": "markdown",
      "source": [
        "### **Challenge 4**\n",
        "\n",
        "Handles a tuple list containing property data"
      ],
      "metadata": {
        "id": "8HC-mRBvpJ1D"
      }
    },
    {
      "cell_type": "code",
      "source": [
        "# Declares a tuple list containing property data, like their rental value\n",
        "rent = [('Apartment', 1700), ('Apartment', 1400), ('House', 2150), ('Apartment', 1900), ('House', 1100)]\n",
        "\n",
        "# Generates another list to keep only the 'Apartnent' properties' rental values\n",
        "apartment_rental = [construct[1] for construct in rent if construct[0] == 'Apartment']\n",
        "\n",
        "apartment_rental"
      ],
      "metadata": {
        "colab": {
          "base_uri": "https://localhost:8080/"
        },
        "id": "cpmqe1hJpo9R",
        "outputId": "4b7f1acb-9037-449a-a498-f32ee6e21037"
      },
      "execution_count": null,
      "outputs": [
        {
          "output_type": "execute_result",
          "data": {
            "text/plain": [
              "[1700, 1400, 1900]"
            ]
          },
          "metadata": {},
          "execution_count": 2
        }
      ]
    },
    {
      "cell_type": "markdown",
      "source": [
        "### **Challenge 5**\n",
        "\n",
        "Generates a dictionary with dict comprehension"
      ],
      "metadata": {
        "id": "QFLgzSFhrZvk"
      }
    },
    {
      "cell_type": "code",
      "source": [
        "# Declares two lists to keep 'months' and 'espenses' data\n",
        "months = ['Jan', 'Feb', 'Mar', 'Apr', 'May', 'Jun', 'Jul', 'Aug', 'Sep', 'Oct', 'Nov', 'Dec']\n",
        "expenses = [860, 490, 1010, 780, 900, 630, 590, 770, 620, 560, 840, 360]\n",
        "\n",
        "# Generates a dict using 'months' (keys) and 'expenses' (values) lists\n",
        "data = {months[i]: expenses[i] for i in range(len(months))}\n",
        "\n",
        "data"
      ],
      "metadata": {
        "colab": {
          "base_uri": "https://localhost:8080/"
        },
        "id": "nQdtz6Lmr2lo",
        "outputId": "586e3acc-d1cb-42f0-e53c-15bf62251cd0"
      },
      "execution_count": null,
      "outputs": [
        {
          "output_type": "execute_result",
          "data": {
            "text/plain": [
              "{'Jan': 860,\n",
              " 'Feb': 490,\n",
              " 'Mar': 1010,\n",
              " 'Apr': 780,\n",
              " 'May': 900,\n",
              " 'Jun': 630,\n",
              " 'Jul': 590,\n",
              " 'Aug': 770,\n",
              " 'Sep': 620,\n",
              " 'Oct': 560,\n",
              " 'Nov': 840,\n",
              " 'Dec': 360}"
            ]
          },
          "metadata": {},
          "execution_count": 3
        }
      ]
    },
    {
      "cell_type": "markdown",
      "source": [
        "### **Challenge 6**\n",
        "\n",
        "Filters sales data"
      ],
      "metadata": {
        "id": "ovijcnGMtIQz"
      }
    },
    {
      "cell_type": "code",
      "source": [
        "# Declares a list containin the sales data from a store\n",
        "sales = [('2023', 4093), ('2021', 4320), ('2021', 5959), ('2022', 8883),\n",
        "  ('2023', 9859), ('2022', 5141), ('2022', 7688), ('2022', 9544),\n",
        "  ('2023', 4794), ('2021', 7178), ('2022', 3030), ('2021', 7471),\n",
        "  ('2022', 4226), ('2022', 8190), ('2021', 9680), ('2022', 5616)]\n",
        "\n",
        "# Filters the sales data by year (2022) and value (bigger than 6000)\n",
        "sales_data = [sale[1] for sale in sales if sale[0] == '2022' and sale[1] > 6000]\n",
        "\n",
        "sales_data"
      ],
      "metadata": {
        "colab": {
          "base_uri": "https://localhost:8080/"
        },
        "id": "J-rsCI6vt7Kc",
        "outputId": "6cb87cb9-ce2c-4b85-efe0-b03c46c65884"
      },
      "execution_count": null,
      "outputs": [
        {
          "output_type": "execute_result",
          "data": {
            "text/plain": [
              "[8883, 7688, 9544, 8190]"
            ]
          },
          "metadata": {},
          "execution_count": 5
        }
      ]
    },
    {
      "cell_type": "markdown",
      "source": [
        "### **Challenge 7**\n",
        "\n",
        "Generates a tuple list from patient's blood glucose"
      ],
      "metadata": {
        "id": "2Ox-OeRMvK7T"
      }
    },
    {
      "cell_type": "code",
      "source": [
        "# Declares a list containing patient's blood glucose values\n",
        "blood_glucose = [129, 82, 60, 97,\n",
        "                 101, 65, 62, 167,\n",
        "                 87, 53, 58, 92,\n",
        "                 66, 120, 109, 62,\n",
        "                 86, 96, 103, 88,\n",
        "                 155, 52, 89, 73]\n",
        "\n",
        "# Generates a tuple list based on the patient's blood glucose values\n",
        "patients_data = [('Hypoglicemia', value) if value <= 70\n",
        "                 else ('Normal', value) if value < 100\n",
        "                 else ('Altered', value) if value < 125\n",
        "                 else ('Diabetes', value) for value in blood_glucose]\n",
        "\n",
        "patients_data"
      ],
      "metadata": {
        "colab": {
          "base_uri": "https://localhost:8080/"
        },
        "id": "68SBE4M9vw6e",
        "outputId": "d76e8fe1-c0d2-48a5-f1c7-d32a90fb3023"
      },
      "execution_count": null,
      "outputs": [
        {
          "output_type": "execute_result",
          "data": {
            "text/plain": [
              "[('Diabetes', 129),\n",
              " ('Normal', 82),\n",
              " ('Hypoglicemia', 60),\n",
              " ('Normal', 97),\n",
              " ('Altered', 101),\n",
              " ('Hypoglicemia', 65),\n",
              " ('Hypoglicemia', 62),\n",
              " ('Diabetes', 167),\n",
              " ('Normal', 87),\n",
              " ('Hypoglicemia', 53),\n",
              " ('Hypoglicemia', 58),\n",
              " ('Normal', 92),\n",
              " ('Hypoglicemia', 66),\n",
              " ('Altered', 120),\n",
              " ('Altered', 109),\n",
              " ('Hypoglicemia', 62),\n",
              " ('Normal', 86),\n",
              " ('Normal', 96),\n",
              " ('Altered', 103),\n",
              " ('Normal', 88),\n",
              " ('Diabetes', 155),\n",
              " ('Hypoglicemia', 52),\n",
              " ('Normal', 89),\n",
              " ('Normal', 73)]"
            ]
          },
          "metadata": {},
          "execution_count": 7
        }
      ]
    },
    {
      "cell_type": "markdown",
      "source": [
        "### **Challenge 8**\n",
        "\n",
        "Handling an E-commerce dataset"
      ],
      "metadata": {
        "id": "UsLQEux3zOa_"
      }
    },
    {
      "cell_type": "code",
      "source": [
        "# Declares three lists containing the E-commerce dataset\n",
        "id = [0, 1, 2, 3, 4, 5, 6, 7, 8, 9]\n",
        "quantity = [15, 12, 1, 15, 2, 11, 2, 12, 2, 4]\n",
        "price = [93.0, 102.0, 18.0, 41.0, 122.0, 14.0, 71.0, 48.0, 14.0, 144.0]\n",
        "\n",
        "# Add a header to the dataset table\n",
        "table = [('Id', 'Quantity', 'Price', 'Total')]\n",
        "\n",
        "# Handles the dataset and generates a table with it\n",
        "table += [(id[i], quantity[i], price[i], quantity[i] * price[i]) for i in range(len(id))]\n",
        "\n",
        "table"
      ],
      "metadata": {
        "colab": {
          "base_uri": "https://localhost:8080/"
        },
        "id": "DJlI7qZw0CbL",
        "outputId": "cc03887f-b515-4d7c-ca39-e7346aa95c28"
      },
      "execution_count": null,
      "outputs": [
        {
          "output_type": "execute_result",
          "data": {
            "text/plain": [
              "[('Id', 'Quantity', 'Price', 'Total'),\n",
              " (0, 15, 93.0, 1395.0),\n",
              " (1, 12, 102.0, 1224.0),\n",
              " (2, 1, 18.0, 18.0),\n",
              " (3, 15, 41.0, 615.0),\n",
              " (4, 2, 122.0, 244.0),\n",
              " (5, 11, 14.0, 154.0),\n",
              " (6, 2, 71.0, 142.0),\n",
              " (7, 12, 48.0, 576.0),\n",
              " (8, 2, 14.0, 28.0),\n",
              " (9, 4, 144.0, 576.0)]"
            ]
          },
          "metadata": {},
          "execution_count": 10
        }
      ]
    },
    {
      "cell_type": "markdown",
      "source": [
        "### **Challenge 9**\n",
        "\n",
        "Dealing with braches of a company"
      ],
      "metadata": {
        "id": "mQXWg-G7SMEc"
      }
    },
    {
      "cell_type": "code",
      "source": [
        "# Declares a list containing the Brazilian states of each branch\n",
        "states = ['SP', 'ES', 'MG', 'MG',\n",
        "          'SP', 'MG', 'ES', 'ES',\n",
        "          'ES', 'SP', 'SP', 'MG',\n",
        "          'ES', 'SP', 'RJ', 'MG',\n",
        "          'RJ', 'SP', 'MG', 'SP',\n",
        "          'ES', 'SP', 'MG']\n",
        "\n",
        "# Keeps each state just one time\n",
        "unique_states = list(set(states))\n",
        "\n",
        "# Declares a list to keep the sorted states\n",
        "sorted_states = []\n",
        "\n",
        "# Runs through the states and sort them\n",
        "for state in unique_states:\n",
        "  state_list = [uf for uf in states if uf == state]\n",
        "  sorted_states.append(state_list)\n",
        "\n",
        "# Generates a dict containing the appearance number of each state\n",
        "states_values = {unique_states[i]: len(state_list[i]) for i in range(len(unique_states))}\n",
        "\n",
        "states_values"
      ],
      "metadata": {
        "colab": {
          "base_uri": "https://localhost:8080/"
        },
        "id": "q8qrcZJITGPv",
        "outputId": "b810970d-8f5f-47a4-8155-41a67d0c359d"
      },
      "execution_count": null,
      "outputs": [
        {
          "output_type": "execute_result",
          "data": {
            "text/plain": [
              "{'MG': 2, 'ES': 2, 'RJ': 2, 'SP': 2}"
            ]
          },
          "metadata": {},
          "execution_count": 5
        }
      ]
    },
    {
      "cell_type": "markdown",
      "source": [
        "### **Challenge 10**\n",
        "\n",
        "Dealing with employes of a company"
      ],
      "metadata": {
        "id": "hDlhR8e4Wp-l"
      }
    },
    {
      "cell_type": "code",
      "source": [
        "# Declares a tuple list containing states and the number of employes in each state\n",
        "states_employes = [('SP', 16), ('ES', 8), ('MG', 9), ('MG', 6),\n",
        "                    ('SP', 10), ('MG', 4), ('ES',9), ('ES', 7),\n",
        "                    ('ES', 12), ('SP', 7), ('SP', 11), ('MG',8),\n",
        "                    ('ES',8), ('SP',9), ('RJ', 13), ('MG', 5),\n",
        "                    ('RJ', 9), ('SP', 12), ('MG', 10), ('SP', 7),\n",
        "                    ('ES', 14), ('SP', 10), ('MG', 12)]\n",
        "\n",
        "# Generates a list containing each state just one time\n",
        "unique_states = list(set([item[0] for item in states_employes]))\n",
        "\n",
        "# Declares a list to keep the number of employes\n",
        "employes_values = []\n",
        "\n",
        "# Runs the list of states and employes to sort each employe number in its specific state\n",
        "for state in unique_states:\n",
        "  employes_list = [item[1] for item in states_employes if item[0] == state]\n",
        "  employes_values.append(employes_list)\n",
        "\n",
        "# Keeps the sorted employes based on their own state and show it\n",
        "sorted_employes = {unique_states[i]: employes_values[i] for i in range(len(unique_states))}\n",
        "print(f'Sorted employes: {sorted_employes}')\n",
        "\n",
        "# Sums the number of employes of each state and show it\n",
        "employes_sum = {unique_states[i]: sum(employes_values[i]) for i in range(len(unique_states))}\n",
        "print(f'Sum of employes: {employes_sum}')"
      ],
      "metadata": {
        "colab": {
          "base_uri": "https://localhost:8080/"
        },
        "id": "xgWFSLNqXhjK",
        "outputId": "436ed7cd-ddbf-4d57-d47b-fb212adf3091"
      },
      "execution_count": null,
      "outputs": [
        {
          "output_type": "stream",
          "name": "stdout",
          "text": [
            "Sorted employes: {'MG': [9, 6, 4, 8, 5, 10, 12], 'ES': [8, 9, 7, 12, 8, 14], 'RJ': [13, 9], 'SP': [16, 10, 7, 11, 9, 12, 7, 10]}\n",
            "Sum of employes: {'MG': 54, 'ES': 58, 'RJ': 22, 'SP': 82}\n"
          ]
        }
      ]
    },
    {
      "cell_type": "markdown",
      "source": [
        "# Fourth class - Exceptions"
      ],
      "metadata": {
        "id": "am60kXs5d0Sb"
      }
    },
    {
      "cell_type": "markdown",
      "source": [
        "### **Challenge 1**\n",
        "\n",
        "Exceptions with float type"
      ],
      "metadata": {
        "id": "A_RmO6X5d76s"
      }
    },
    {
      "cell_type": "code",
      "source": [
        "# Tries to read two float numbers\n",
        "try:\n",
        "  # Reads two values (float)\n",
        "  n1 = float(input('Enter the 1st number: '))\n",
        "  n2 = float(input('Enter the 2nd number: '))\n",
        "  division = n1 / n2\n",
        "except Exception as e:\n",
        "  print(type(e), f'Error: {e}')\n",
        "else:\n",
        "  print(f'Division: {division}')"
      ],
      "metadata": {
        "colab": {
          "base_uri": "https://localhost:8080/"
        },
        "id": "sfNxtkmSed3o",
        "outputId": "3edaa232-2dfd-4147-fb4b-5c6ccc048388"
      },
      "execution_count": null,
      "outputs": [
        {
          "output_type": "stream",
          "name": "stdout",
          "text": [
            "Enter the 1st number: 7\n",
            "Enter the 2nd number: 0\n",
            "<class 'ZeroDivisionError'> Error: float division by zero\n"
          ]
        }
      ]
    },
    {
      "cell_type": "markdown",
      "source": [
        "### **Challenge 2**\n",
        "\n",
        "Exceptions with dictionaries"
      ],
      "metadata": {
        "id": "rN_Fbxi4fySC"
      }
    },
    {
      "cell_type": "code",
      "source": [
        "# Declare a dict containing ages of people\n",
        "people = {'Júlia': 16, 'Carol': 23, 'Alberto': 19, 'Roberta': 17}\n",
        "\n",
        "# Try to read a name and find it in the dict 'people'\n",
        "try:\n",
        "  name = input('Enter a name: ')\n",
        "  person = people[name]\n",
        "except KeyError:\n",
        "  print('Name not found')\n",
        "else:\n",
        "  print(person)"
      ],
      "metadata": {
        "colab": {
          "base_uri": "https://localhost:8080/"
        },
        "id": "YN7EsW-GgEI7",
        "outputId": "d343e477-0e75-4464-b5bd-9af676623494"
      },
      "execution_count": null,
      "outputs": [
        {
          "output_type": "stream",
          "name": "stdout",
          "text": [
            "Enter a name: Matheus\n",
            "Name not found\n"
          ]
        }
      ]
    },
    {
      "cell_type": "markdown",
      "source": [
        "### **Challenge 3**\n",
        "\n",
        "Dealing wiht a list of numbers"
      ],
      "metadata": {
        "id": "zhFx-WkQlrEU"
      }
    },
    {
      "cell_type": "code",
      "source": [
        "# Declare a list of numbers\n",
        "numbers = ['1', '2', '3', '4', '5', '1', '2', '3', '4', '5']\n",
        "\n",
        "# Try to convert the number from the list into float\n",
        "try:\n",
        "  float_numbers = list(map(lambda n: float(n), numbers))\n",
        "except Exception as e:\n",
        "  print(type(e), f'Error: {e}')\n",
        "else:\n",
        "  print(float_numbers)\n",
        "finally:\n",
        "  print('End of execution')"
      ],
      "metadata": {
        "colab": {
          "base_uri": "https://localhost:8080/"
        },
        "id": "s7bomUbLl_zH",
        "outputId": "2a9c78bf-574a-43b9-c63f-faf132b5e9e9"
      },
      "execution_count": null,
      "outputs": [
        {
          "output_type": "stream",
          "name": "stdout",
          "text": [
            "[1.0, 2.0, 3.0, 4.0, 5.0, 1.0, 2.0, 3.0, 4.0, 5.0]\n",
            "End of execution\n"
          ]
        }
      ]
    },
    {
      "cell_type": "markdown",
      "source": [
        "### **Challenge 4**\n",
        "\n",
        "Dealing with exceptions and tuples"
      ],
      "metadata": {
        "id": "DtANzs5Dnbq4"
      }
    },
    {
      "cell_type": "code",
      "source": [
        "# Declare two lists containing numbers\n",
        "numbers = [1, 2, 3, 4, 5, 1, 2, 3, 4, 5]\n",
        "reverse_numbers = [5, 4, 3, 2, 1, 5, 4, 3, 2]\n",
        "\n",
        "# Try to zip the lists and sum each pair of values from them\n",
        "try:\n",
        "  if len(numbers) == len(reverse_numbers):\n",
        "    final_numbers = [(numbers[i], reverse_numbers[i], numbers[i] + reverse_numbers[i]) for i in range(len(numbers))]\n",
        "  else:\n",
        "    raise IndexError('The quantity of numbers is invalid.')\n",
        "except Exception as e:\n",
        "  print(type(e), f'Error {e}')\n",
        "else:\n",
        "  print(final_numbers)"
      ],
      "metadata": {
        "colab": {
          "base_uri": "https://localhost:8080/"
        },
        "id": "GWV1NFDRnt96",
        "outputId": "1b5617b9-2d01-4d86-dfcb-7ba701857e49"
      },
      "execution_count": null,
      "outputs": [
        {
          "output_type": "stream",
          "name": "stdout",
          "text": [
            "<class 'IndexError'> Error The quantity of numbers is invalid.\n"
          ]
        }
      ]
    },
    {
      "cell_type": "markdown",
      "source": [
        "### **Challenge 5**\n",
        "\n",
        "Grades and exeptions"
      ],
      "metadata": {
        "id": "ZsBWacSsdXt-"
      }
    },
    {
      "cell_type": "code",
      "source": [
        "# Declare a list containing a test answer key\n",
        "key = ['D', 'A', 'B', 'C', 'A']\n",
        "\n",
        "# Declare a list of lists containing the treated student answers\n",
        "student_answers = [['D', 'A', 'B', 'C', 'A'],\n",
        "                    ['C', 'A', 'A', 'C', 'A'],\n",
        "                    ['D', 'B', 'A', 'C', 'A']]\n",
        "\n",
        "# Declare a list of lists containing the untreated student answers\n",
        "student_un_answers = [['D', 'A', 'B', 'C', 'A'],\n",
        "                        ['C', 'A', 'A', 'E', 'A'],\n",
        "                        ['D', 'B', 'A', 'C', 'A']]\n",
        "\n",
        "# Declare a list to keep the points of each student\n",
        "points = []\n",
        "\n",
        "# Try to verify the correct answers and count them\n",
        "try:\n",
        "  # Run the list of lists containin all the student answers\n",
        "  for answers in student_answers:\n",
        "    # Initialiaze the counter variable\n",
        "    count = 0\n",
        "    # Run the length of each list inside the 'student_answers' list\n",
        "    for i in range(len(answers)):\n",
        "      # If the answer isn't valid...\n",
        "      if answers[i] not in ['A', 'B', 'C', 'D']:\n",
        "        # Return a custom reason for this problem\n",
        "        raise ValueError(f'The answer {answers[i]} is not a valid option')\n",
        "      # If the answer choosed by the student is equal to the key answer...\n",
        "      if answers[i] == key[i]:\n",
        "        # Improve the counter\n",
        "        count += 1\n",
        "    # Add the sum of points of each student into the 'points' list\n",
        "    points.append([count])\n",
        "# Except...\n",
        "except Exception as e:\n",
        "  # Print a error message to the user\n",
        "  print(type(e), f'Error: {e}')\n",
        "# If the program worked, print the list of points of each student\n",
        "else:\n",
        "  print(f'Student Grades: {points}')\n",
        "\n",
        ""
      ],
      "metadata": {
        "colab": {
          "base_uri": "https://localhost:8080/"
        },
        "id": "rhFGOTTud4Bz",
        "outputId": "c4c0b7a8-9faf-4cd8-c26a-4da14c069341"
      },
      "execution_count": 14,
      "outputs": [
        {
          "output_type": "stream",
          "name": "stdout",
          "text": [
            "Student Grades: [[5], [3], [3]]\n"
          ]
        }
      ]
    },
    {
      "cell_type": "markdown",
      "source": [
        "### **Challenge 6**\n",
        "\n",
        "Dealing with strings and exceptions"
      ],
      "metadata": {
        "id": "gZRCmegpoqdJ"
      }
    },
    {
      "cell_type": "code",
      "source": [
        "# Declare a list containing treated words\n",
        "words = ['Python', 'é', 'uma', 'linguagem', 'de', 'programação', 'poderosa', 'versátil',\n",
        "          'e', 'fácil', 'de', 'aprender', 'utilizada', 'em', 'diversos', 'campos', 'desde',\n",
        "          'análise', 'de', 'dados', 'até', 'inteligência', 'artificial']\n",
        "\n",
        "# Declare a list containing untreated words\n",
        "un_words = ['Python', 'é', 'uma', 'linguagem', 'de', 'programação', 'poderosa,', 'versátil',\n",
        "            'e', 'fácil,', 'de', 'aprender', 'utilizada', 'em', 'diversos', 'campos,', 'desde',\n",
        "            'análise', 'de', 'dados', 'até', 'inteligência', 'artificial!']\n",
        "\n",
        "# Try to verify if there are ponctuation symbols in each word\n",
        "try:\n",
        "  # Run the word list\n",
        "  for word in words:\n",
        "    # If there is at least one poctuation symbol in the word...\n",
        "    if '.' in word or ',' in word or '!' in word or '?' in word:\n",
        "      # Return a custom reason for this problem\n",
        "      raise ValueError(f'There is at least one ponctuation symbol in the word: {word}')\n",
        "# Except...\n",
        "except Exception as e:\n",
        "  # Print a error message to the user\n",
        "  print(type(e), f'Error: {e}')\n",
        "# If the program worked, print an ending message\n",
        "else:\n",
        "  print('The word list has been treated')"
      ],
      "metadata": {
        "colab": {
          "base_uri": "https://localhost:8080/"
        },
        "id": "-HD58X-WpknT",
        "outputId": "8da2c32d-581e-4ec0-c8d1-c326da93636a"
      },
      "execution_count": 12,
      "outputs": [
        {
          "output_type": "stream",
          "name": "stdout",
          "text": [
            "The word list has been treated\n"
          ]
        }
      ]
    },
    {
      "cell_type": "markdown",
      "source": [
        "### **Challenge 7**\n",
        "\n",
        "Dealing with ValueError and ZeroDivisionError Exceptions"
      ],
      "metadata": {
        "id": "eHP_nA_Jt_Sr"
      }
    },
    {
      "cell_type": "code",
      "source": [
        "# Declare two lists containing pressure and temperature values\n",
        "pressures = [100, 120, 140, 160, 180]\n",
        "temperatures = [20, 25, 30, 35, 40]\n",
        "\n",
        "# Declare a list containing pressure values, but with ValueError\n",
        "v_pressures = [100, 120, 140, 160]    # This one has one less value\n",
        "\n",
        "# Declare list containing temperature values, but with ZeroDivisionError\n",
        "z_temperatures = [0, 25, 30, 35, 40]  # This one has a zero value\n",
        "\n",
        "# Declare a list to keep the values and their divisions\n",
        "divided = []\n",
        "\n",
        "# Try zip and divide the values of the two lists\n",
        "try:\n",
        "  # If the two lists have the same number of elements...\n",
        "  if len(pressures) == len(temperatures):\n",
        "    # Zip the values into a tuple\n",
        "    values = list(zip(pressures, temperatures))\n",
        "  # Else...\n",
        "  else:\n",
        "    # Return a custom reason for this problem\n",
        "    raise ValueError('The two lists do not have the same number of elements')\n",
        "  # Run the list of tuples of values\n",
        "  for value in values:\n",
        "    # If someone try to divide a number by zero...\n",
        "    if value[1] == 0:\n",
        "      # Return a custom reason for this problem\n",
        "      raise ZeroDivisionError(f'We cannot divide a number by {value[1]}')\n",
        "    divided.append((value[0], value[1], round(value[0] / value[1], 1)))\n",
        "# Except...\n",
        "except ValueError as e:\n",
        "  # Print a error message to the user\n",
        "  print(type(e), f'Error: {e}')\n",
        "# Except...\n",
        "except ZeroDivisionError as e:\n",
        "  # Print a error message to the user\n",
        "  print(type(e), f'Error: {e}')\n",
        "# If the program worked, print an ending message\n",
        "else:\n",
        "  print(f'(Pressures - Temperatures - Ratio)\\n{divided}')"
      ],
      "metadata": {
        "colab": {
          "base_uri": "https://localhost:8080/"
        },
        "id": "3AxDPCXruqLK",
        "outputId": "bb597973-8ffd-4ede-f107-eb4a746e8f37"
      },
      "execution_count": 31,
      "outputs": [
        {
          "output_type": "stream",
          "name": "stdout",
          "text": [
            "(Pressures - Temperatures - Ratio)\n",
            "[(100, 20, 5.0), (120, 25, 4.8), (140, 30, 4.7), (160, 35, 4.6), (180, 40, 4.5)]\n"
          ]
        }
      ]
    }
  ]
}